{
 "cells": [
  {
   "cell_type": "markdown",
   "id": "e0c7b14a-e5aa-4abc-b48b-b8a9d20dacac",
   "metadata": {
    "id": "e0c7b14a-e5aa-4abc-b48b-b8a9d20dacac"
   },
   "source": [
    "# Assignment: Linear Models\n",
    "## Do two questions in total: \"Q1+Q2\" or \"Q1+Q3\"\n",
    "### `! git clone https://github.com/ds3001f25/linear_models_assignment.git`"
   ]
  },
  {
   "cell_type": "markdown",
   "id": "06198989",
   "metadata": {},
   "source": [
    "## Setup"
   ]
  },
  {
   "cell_type": "code",
   "execution_count": 53,
   "id": "6c81d0e4",
   "metadata": {},
   "outputs": [],
   "source": [
    "import pandas as pd\n",
    "import numpy as np\n",
    "import matplotlib.pyplot as plt\n",
    "import seaborn as sns\n",
    "from sklearn.linear_model import LinearRegression\n",
    "from sklearn.model_selection import train_test_split\n",
    "from sklearn.preprocessing import PolynomialFeatures\n",
    "from sklearn.metrics import mean_squared_error"
   ]
  },
  {
   "cell_type": "markdown",
   "id": "6b320f14",
   "metadata": {},
   "source": [
    "## Q1"
   ]
  },
  {
   "cell_type": "markdown",
   "id": "ca1cfba3",
   "metadata": {
    "vscode": {
     "languageId": "plaintext"
    }
   },
   "source": [
    "**Q1.** Let's explore multiple linear regression in a two-variable case, to build more intuition about what is happening.\n",
    "\n",
    "Suppose the model is \n",
    "$$\n",
    "\\hat{y}_i = b_0 + b_1 z_{i1} + b_2 z_{i2}\n",
    "$$\n",
    "Assume that $z_{ij}$ is centered or de-meaned, so that $z_{ij} = x_{ij} - m_j$ where $m_j$ is the mean of variable $j$ and $x_{ij}$ is the original value of variable $j$ for observation $i$. Notice that this implies\n",
    "$$\n",
    "\\dfrac{1}{N} \\sum_{i=1}^N z_{ij} = 0\n",
    "$$\n",
    "which will simplify your calculations below substantially!\n",
    "\n",
    "1. Write down the SSE for this model.\n",
    "2. Take partial derivatives with respect to $b_0$, $b_1$, and $b_2$.\n",
    "3. Verify that the average error is zero and $e \\cdot z =0$ at the optimum, just as in the single linear regression case.\n",
    "4. Show that the optimal intercept is $b_0^* = \\bar{y}$. Eliminate $b_0^*$ from the remaining equations, and focus on $b_1$ and $b_2$.\n",
    "5. Write your results as a matrix equation in the form \"$Ab=C$\". These are called the **normal equations**.\n",
    "6. Divide both sides by $N$ and substitute $z_{ij} = x_{ij} - m_j$ back into your normal equations for $x_{ij}$. What is the matrix $A$? What is the vector $C$? Explain the intuition of your discovery.   "
   ]
  },
  {
   "cell_type": "markdown",
   "id": "787c554c",
   "metadata": {},
   "source": [
    "I can't even lie. This was one of the most painful questions I have ever had to complete in the last 3 years I have been at UVA. Solely because Q1.5 and Q1.6 are so up in the air. In any case, here is my work. Enjoy my suffering and see below for my \"answer\" on my \"intuition\" for Q1.6.\n",
    "\n",
    "![Q1 All](images/hpb2gv-suffering.jpg)"
   ]
  },
  {
   "cell_type": "markdown",
   "id": "d7854e9f",
   "metadata": {},
   "source": [
    "### Q1.6 Explanation\n",
    "OK. I literally rummaged through every single speck of the lecture notes. I have now gathered that technically I could have actually simplified A and C more to Covariance and Variance functions (like how it was done in the Angle and Correlation section). Here we go:\n",
    "\n",
    "$$\n",
    "\\begin{bmatrix}\n",
    "Var(X_1) & Cov(X_1, X_2) \\\\\\\n",
    "Cov(X_1, X_2) & Var(X_2)\n",
    "\\end{bmatrix}\n",
    "$$\n",
    "\n",
    "While the C vector is technically:\n",
    "\n",
    "$$\n",
    "\\begin{bmatrix}\n",
    "Cov(X_1, Y) \\\\\\\n",
    "Cov(X_2, Y)\n",
    "\\end{bmatrix}\n",
    "$$\n",
    "\n",
    "Now, what does that actually mean? Well, to be honest... I haven't got a clue. If we do some matrix multiplication we end up with the two equations:\n",
    "\n",
    "$$\n",
    "Var(X_1)b_1 + Cov(X_1, X_2)b_2 = Cov(X_1, Y)\n",
    "$$\n",
    "and\n",
    "$$\n",
    "Cov(X_1, X_2)b_1 + Var(X_2)b_2 = Cov(X_2, Y)\n",
    "$$\n",
    "\n",
    "and to be frank, this makes even LESS sense to me. So I hope I can just write this and get credit - I think it just has something to do with how we're considering the individual variables $X_1$ and $X_2$ with slope terms (hence the variances), and then the interactions between the two (hence the covariances), and that is equivalent to the interactions between $X_1$ and $X_2$ and the predicted variable $Y$? That's really the only thing I can think of based on just the definition of covariance + variance but if there's a better answer... I'm tired :("
   ]
  },
  {
   "cell_type": "markdown",
   "id": "95f22300-0180-4ed2-be8f-ed56cf4cd36b",
   "metadata": {
    "id": "95f22300-0180-4ed2-be8f-ed56cf4cd36b"
   },
   "source": [
    "**Q2.** This question is a case study for linear models. The data are about car prices. In particular, they include:\n",
    "\n",
    "  - `Price`, `Color`, `Seating_Capacity`\n",
    "  - `Body_Type`: crossover, hatchback, muv, sedan, suv\n",
    "  - `Make`, `Make_Year`: The brand of car and year produced\n",
    "  - `Mileage_Run`: The number of miles on the odometer\n",
    "  - `Fuel_Type`: Diesel or gasoline/petrol\n",
    "  - `Transmission`, `Transmission_Type`:  speeds and automatic/manual\n",
    "\n",
    "  1. Load `cars_hw.csv`. These data were really dirty, and I've already cleaned them a significant amount in terms of missing values and other issues, but some issues remain (e.g. outliers, badly scaled variables that require a log or arcsinh transformation). Clean the data however you think is most appropriate.\n",
    "  2. Summarize the `Price` variable and create a kernel density plot. Use `.groupby()` and `.describe()` to summarize prices by brand (`Make`). Make a grouped kernel density plot by `Make`. Which car brands are the most expensive? What do prices look like in general?\n",
    "  3. Split the data into an 80% training set and a 20% testing set.\n",
    "  4. Make a model where you regress price on the numeric variables alone; what is the $R^2$ and `RMSE` on the training set and test set? Make a second model where, for the categorical variables, you regress price on a model comprised of one-hot encoded regressors/features alone (you can use `pd.get_dummies()`; be careful of the dummy variable trap); what is the $R^2$ and `RMSE` on the test set? Which model performs better on the test set? Make a third model that combines all the regressors from the previous two; what is the $R^2$ and `RMSE` on the test set? Does the joint model perform better or worse, and by home much?\n",
    "  5. Use the `PolynomialFeatures` function from `sklearn` to expand the set of numerical variables you're using in the regression. As you increase the degree of the expansion, how do the $R^2$ and `RMSE` change? At what point does $R^2$ go negative on the test set? For your best model with expanded features, what is the $R^2$ and `RMSE`? How does it compare to your best model from part 4?\n",
    "  6. For your best model so far, determine the predicted values for the test data and plot them against the true values. Do the predicted values and true values roughly line up along the diagonal, or not? Compute the residuals/errors for the test data and create a kernel density plot. Do the residuals look roughly bell-shaped around zero? Evaluate the strengths and weaknesses of your model."
   ]
  },
  {
   "cell_type": "markdown",
   "id": "3bf995b5",
   "metadata": {},
   "source": [
    "### Q2.1"
   ]
  },
  {
   "cell_type": "code",
   "execution_count": 2,
   "id": "9e7ecd96",
   "metadata": {},
   "outputs": [
    {
     "data": {
      "text/html": [
       "<div>\n",
       "<style scoped>\n",
       "    .dataframe tbody tr th:only-of-type {\n",
       "        vertical-align: middle;\n",
       "    }\n",
       "\n",
       "    .dataframe tbody tr th {\n",
       "        vertical-align: top;\n",
       "    }\n",
       "\n",
       "    .dataframe thead th {\n",
       "        text-align: right;\n",
       "    }\n",
       "</style>\n",
       "<table border=\"1\" class=\"dataframe\">\n",
       "  <thead>\n",
       "    <tr style=\"text-align: right;\">\n",
       "      <th></th>\n",
       "      <th>Unnamed: 0</th>\n",
       "      <th>Make</th>\n",
       "      <th>Make_Year</th>\n",
       "      <th>Color</th>\n",
       "      <th>Body_Type</th>\n",
       "      <th>Mileage_Run</th>\n",
       "      <th>No_of_Owners</th>\n",
       "      <th>Seating_Capacity</th>\n",
       "      <th>Fuel_Type</th>\n",
       "      <th>Transmission</th>\n",
       "      <th>Transmission_Type</th>\n",
       "      <th>Price</th>\n",
       "    </tr>\n",
       "  </thead>\n",
       "  <tbody>\n",
       "    <tr>\n",
       "      <th>0</th>\n",
       "      <td>1</td>\n",
       "      <td>Volkswagen</td>\n",
       "      <td>2017</td>\n",
       "      <td>silver</td>\n",
       "      <td>sedan</td>\n",
       "      <td>44611</td>\n",
       "      <td>1st</td>\n",
       "      <td>5</td>\n",
       "      <td>diesel</td>\n",
       "      <td>7-Speed</td>\n",
       "      <td>Automatic</td>\n",
       "      <td>657000</td>\n",
       "    </tr>\n",
       "    <tr>\n",
       "      <th>1</th>\n",
       "      <td>2</td>\n",
       "      <td>Hyundai</td>\n",
       "      <td>2016</td>\n",
       "      <td>red</td>\n",
       "      <td>crossover</td>\n",
       "      <td>20305</td>\n",
       "      <td>1st</td>\n",
       "      <td>5</td>\n",
       "      <td>petrol</td>\n",
       "      <td>5-Speed</td>\n",
       "      <td>Manual</td>\n",
       "      <td>682000</td>\n",
       "    </tr>\n",
       "    <tr>\n",
       "      <th>2</th>\n",
       "      <td>3</td>\n",
       "      <td>Honda</td>\n",
       "      <td>2019</td>\n",
       "      <td>white</td>\n",
       "      <td>suv</td>\n",
       "      <td>29540</td>\n",
       "      <td>2nd</td>\n",
       "      <td>5</td>\n",
       "      <td>petrol</td>\n",
       "      <td>5-Speed</td>\n",
       "      <td>Manual</td>\n",
       "      <td>793000</td>\n",
       "    </tr>\n",
       "    <tr>\n",
       "      <th>3</th>\n",
       "      <td>4</td>\n",
       "      <td>Renault</td>\n",
       "      <td>2017</td>\n",
       "      <td>bronze</td>\n",
       "      <td>hatchback</td>\n",
       "      <td>35680</td>\n",
       "      <td>1st</td>\n",
       "      <td>5</td>\n",
       "      <td>petrol</td>\n",
       "      <td>5-Speed</td>\n",
       "      <td>Manual</td>\n",
       "      <td>414000</td>\n",
       "    </tr>\n",
       "    <tr>\n",
       "      <th>4</th>\n",
       "      <td>5</td>\n",
       "      <td>Hyundai</td>\n",
       "      <td>2017</td>\n",
       "      <td>orange</td>\n",
       "      <td>hatchback</td>\n",
       "      <td>25126</td>\n",
       "      <td>1st</td>\n",
       "      <td>5</td>\n",
       "      <td>petrol</td>\n",
       "      <td>5-Speed</td>\n",
       "      <td>Manual</td>\n",
       "      <td>515000</td>\n",
       "    </tr>\n",
       "  </tbody>\n",
       "</table>\n",
       "</div>"
      ],
      "text/plain": [
       "   Unnamed: 0        Make  Make_Year   Color  Body_Type  Mileage_Run  \\\n",
       "0           1  Volkswagen       2017  silver      sedan        44611   \n",
       "1           2     Hyundai       2016     red  crossover        20305   \n",
       "2           3       Honda       2019   white        suv        29540   \n",
       "3           4     Renault       2017  bronze  hatchback        35680   \n",
       "4           5     Hyundai       2017  orange  hatchback        25126   \n",
       "\n",
       "  No_of_Owners  Seating_Capacity Fuel_Type Transmission Transmission_Type  \\\n",
       "0          1st                 5    diesel      7-Speed         Automatic   \n",
       "1          1st                 5    petrol      5-Speed            Manual   \n",
       "2          2nd                 5    petrol      5-Speed            Manual   \n",
       "3          1st                 5    petrol      5-Speed            Manual   \n",
       "4          1st                 5    petrol      5-Speed            Manual   \n",
       "\n",
       "    Price  \n",
       "0  657000  \n",
       "1  682000  \n",
       "2  793000  \n",
       "3  414000  \n",
       "4  515000  "
      ]
     },
     "execution_count": 2,
     "metadata": {},
     "output_type": "execute_result"
    }
   ],
   "source": [
    "cars_df = pd.read_csv('./data/cars_hw.csv')\n",
    "cars_df.head()"
   ]
  },
  {
   "cell_type": "code",
   "execution_count": 3,
   "id": "e5d908f7",
   "metadata": {},
   "outputs": [
    {
     "name": "stdout",
     "output_type": "stream",
     "text": [
      "<class 'pandas.core.frame.DataFrame'>\n",
      "RangeIndex: 976 entries, 0 to 975\n",
      "Data columns (total 12 columns):\n",
      " #   Column             Non-Null Count  Dtype \n",
      "---  ------             --------------  ----- \n",
      " 0   Unnamed: 0         976 non-null    int64 \n",
      " 1   Make               976 non-null    object\n",
      " 2   Make_Year          976 non-null    int64 \n",
      " 3   Color              976 non-null    object\n",
      " 4   Body_Type          976 non-null    object\n",
      " 5   Mileage_Run        976 non-null    int64 \n",
      " 6   No_of_Owners       976 non-null    object\n",
      " 7   Seating_Capacity   976 non-null    int64 \n",
      " 8   Fuel_Type          976 non-null    object\n",
      " 9   Transmission       976 non-null    object\n",
      " 10  Transmission_Type  976 non-null    object\n",
      " 11  Price              976 non-null    int64 \n",
      "dtypes: int64(5), object(7)\n",
      "memory usage: 91.6+ KB\n"
     ]
    }
   ],
   "source": [
    "cars_df.info()"
   ]
  },
  {
   "cell_type": "code",
   "execution_count": 4,
   "id": "32177657",
   "metadata": {},
   "outputs": [
    {
     "data": {
      "text/plain": [
       "array(['Volkswagen', 'Hyundai', 'Honda', 'Renault', 'Tata', 'Chevrolet',\n",
       "       'Maruti Suzuki', 'Toyota', 'Mahindra', 'Ford', 'Nissan', 'Jeep',\n",
       "       'MG Motors', 'Kia', 'Skoda', 'Datsun'], dtype=object)"
      ]
     },
     "execution_count": 4,
     "metadata": {},
     "output_type": "execute_result"
    }
   ],
   "source": [
    "cars_df['Make'].unique()"
   ]
  },
  {
   "cell_type": "code",
   "execution_count": 5,
   "id": "d64c5216",
   "metadata": {},
   "outputs": [
    {
     "data": {
      "text/plain": [
       "array([2017, 2016, 2019, 2012, 2021, 2020, 2013, 2022, 2018, 2014, 2011,\n",
       "       2015])"
      ]
     },
     "execution_count": 5,
     "metadata": {},
     "output_type": "execute_result"
    }
   ],
   "source": [
    "cars_df['Make_Year'].unique()"
   ]
  },
  {
   "cell_type": "code",
   "execution_count": 6,
   "id": "b0364c64",
   "metadata": {},
   "outputs": [
    {
     "data": {
      "text/plain": [
       "array(['silver', 'red', 'white', 'bronze', 'orange', 'grey', 'blue',\n",
       "       'yellow', 'beige', 'brown', 'golden', 'black', 'maroon', 'purple',\n",
       "       'green'], dtype=object)"
      ]
     },
     "execution_count": 6,
     "metadata": {},
     "output_type": "execute_result"
    }
   ],
   "source": [
    "cars_df['Color'].unique()"
   ]
  },
  {
   "cell_type": "code",
   "execution_count": 7,
   "id": "29e91f33",
   "metadata": {},
   "outputs": [
    {
     "data": {
      "text/plain": [
       "array(['sedan', 'crossover', 'suv', 'hatchback', 'muv'], dtype=object)"
      ]
     },
     "execution_count": 7,
     "metadata": {},
     "output_type": "execute_result"
    }
   ],
   "source": [
    "cars_df['Body_Type'].unique()"
   ]
  },
  {
   "cell_type": "code",
   "execution_count": 8,
   "id": "c2772a62",
   "metadata": {},
   "outputs": [
    {
     "data": {
      "text/plain": [
       "count      976.000000\n",
       "mean     41571.195697\n",
       "std      24390.995134\n",
       "min       1117.000000\n",
       "25%      22676.750000\n",
       "50%      37570.500000\n",
       "75%      57421.250000\n",
       "max      99495.000000\n",
       "Name: Mileage_Run, dtype: float64"
      ]
     },
     "execution_count": 8,
     "metadata": {},
     "output_type": "execute_result"
    }
   ],
   "source": [
    "cars_df['Mileage_Run'].describe()"
   ]
  },
  {
   "cell_type": "code",
   "execution_count": 9,
   "id": "5320d45f",
   "metadata": {},
   "outputs": [
    {
     "data": {
      "text/plain": [
       "array(['1st', '2nd', '3rd'], dtype=object)"
      ]
     },
     "execution_count": 9,
     "metadata": {},
     "output_type": "execute_result"
    }
   ],
   "source": [
    "cars_df['No_of_Owners'].unique()"
   ]
  },
  {
   "cell_type": "code",
   "execution_count": 10,
   "id": "c02ee398",
   "metadata": {},
   "outputs": [
    {
     "data": {
      "text/plain": [
       "count    976.000000\n",
       "mean       5.095287\n",
       "std        0.446224\n",
       "min        4.000000\n",
       "25%        5.000000\n",
       "50%        5.000000\n",
       "75%        5.000000\n",
       "max        8.000000\n",
       "Name: Seating_Capacity, dtype: float64"
      ]
     },
     "execution_count": 10,
     "metadata": {},
     "output_type": "execute_result"
    }
   ],
   "source": [
    "cars_df['Seating_Capacity'].describe()"
   ]
  },
  {
   "cell_type": "code",
   "execution_count": 11,
   "id": "8fdb07c9",
   "metadata": {},
   "outputs": [
    {
     "data": {
      "text/plain": [
       "array(['diesel', 'petrol', 'petrol+cng'], dtype=object)"
      ]
     },
     "execution_count": 11,
     "metadata": {},
     "output_type": "execute_result"
    }
   ],
   "source": [
    "cars_df['Fuel_Type'].unique()"
   ]
  },
  {
   "cell_type": "code",
   "execution_count": 12,
   "id": "6d2e640d",
   "metadata": {},
   "outputs": [
    {
     "data": {
      "text/plain": [
       "array(['7-Speed', '5-Speed', '6-Speed', 'CVT', '4-Speed'], dtype=object)"
      ]
     },
     "execution_count": 12,
     "metadata": {},
     "output_type": "execute_result"
    }
   ],
   "source": [
    "cars_df['Transmission'].unique()"
   ]
  },
  {
   "cell_type": "code",
   "execution_count": 13,
   "id": "50830c12",
   "metadata": {},
   "outputs": [
    {
     "data": {
      "text/plain": [
       "array(['Automatic', 'Manual'], dtype=object)"
      ]
     },
     "execution_count": 13,
     "metadata": {},
     "output_type": "execute_result"
    }
   ],
   "source": [
    "cars_df['Transmission_Type'].unique()"
   ]
  },
  {
   "cell_type": "code",
   "execution_count": 14,
   "id": "562d2e6f",
   "metadata": {},
   "outputs": [
    {
     "data": {
      "text/plain": [
       "count    9.760000e+02\n",
       "mean     7.410195e+05\n",
       "std      3.673234e+05\n",
       "min      1.880000e+05\n",
       "25%      4.757500e+05\n",
       "50%      6.665000e+05\n",
       "75%      8.830000e+05\n",
       "max      2.941000e+06\n",
       "Name: Price, dtype: float64"
      ]
     },
     "execution_count": 14,
     "metadata": {},
     "output_type": "execute_result"
    }
   ],
   "source": [
    "cars_df['Price'].describe()"
   ]
  },
  {
   "cell_type": "markdown",
   "id": "db164d30",
   "metadata": {},
   "source": [
    "### Q2.2"
   ]
  },
  {
   "cell_type": "markdown",
   "id": "86ad2637",
   "metadata": {},
   "source": [
    "### Q2.3"
   ]
  },
  {
   "cell_type": "markdown",
   "id": "b2a322ce",
   "metadata": {},
   "source": [
    "### Q2.4"
   ]
  },
  {
   "cell_type": "markdown",
   "id": "e5cc03bd",
   "metadata": {},
   "source": [
    "### Q2.5"
   ]
  },
  {
   "cell_type": "markdown",
   "id": "6d0f8b59",
   "metadata": {},
   "source": [
    "### Q2.6"
   ]
  },
  {
   "cell_type": "code",
   "execution_count": null,
   "id": "93c0c011",
   "metadata": {},
   "outputs": [],
   "source": []
  },
  {
   "cell_type": "markdown",
   "id": "7033c9b0",
   "metadata": {},
   "source": [
    "## Q2 (In case you're curious, I snapped it out of existence)"
   ]
  },
  {
   "cell_type": "markdown",
   "id": "13c7d89b",
   "metadata": {},
   "source": [
    "## Q3"
   ]
  },
  {
   "cell_type": "markdown",
   "id": "aedcd486",
   "metadata": {},
   "source": [
    "**Q3.** This question refers to the `heart_hw.csv` data. It contains three variables:\n",
    "\n",
    "  - `y`: Whether the individual survived for three years, coded 0 for death and 1 for survival\n",
    "  - `age`: Patient's age\n",
    "  - `transplant`: `control` for not receiving a transplant and `treatment` for receiving a transplant\n",
    "\n",
    "Since a heart transplant is a dangerous operation and even people who successfully get heart transplants might suffer later complications, we want to look at whether a group of transplant recipients tends to survive longer than a comparison group who does not get the procedure.\n",
    "\n",
    "1. Compute (a) the proportion of people who survive in the control group who do not receive a transplant, and (b) the difference between the proportion of people who survive in the treatment group and the proportion of people who survive in the control group. In a randomized controlled trial, this is called the **average treatment effect**.\n",
    "2. Regress `y` on `transplant` using a linear model with a constant. How does the constant/intercept of the regression and the coefficient on transplant compare to your answers from part 1? Explain the relationship clearly.\n",
    "3. We'd like to include `age` in the regression, since it's reasonable to expect that older patients are less likely to survive an extensive surgery like a heart transplant. Regress `y` on a constant, transplant, and age. How does the intercept change?\n",
    "4. Build a more flexible model that allows for non-linear age effects and interactions between age and treatment. Use a train-test split to validate your model. Estimate your best model, predict the survival probability by age, and plot your results conditional on receiving a transplant and not. Describe what you see.\n",
    "5. Imagine someone suggests using these kinds of models to select who receives organ transplants; perhaps the CDC or NIH starts using a scoring algorithm to decide who is contacted about a potential organ. What are your concerns about how it is built and how it is deployed?"
   ]
  },
  {
   "cell_type": "markdown",
   "id": "0349f32d",
   "metadata": {},
   "source": [
    "### Q3.1"
   ]
  },
  {
   "cell_type": "code",
   "execution_count": 15,
   "id": "d9b3a79a",
   "metadata": {},
   "outputs": [
    {
     "data": {
      "text/html": [
       "<div>\n",
       "<style scoped>\n",
       "    .dataframe tbody tr th:only-of-type {\n",
       "        vertical-align: middle;\n",
       "    }\n",
       "\n",
       "    .dataframe tbody tr th {\n",
       "        vertical-align: top;\n",
       "    }\n",
       "\n",
       "    .dataframe thead th {\n",
       "        text-align: right;\n",
       "    }\n",
       "</style>\n",
       "<table border=\"1\" class=\"dataframe\">\n",
       "  <thead>\n",
       "    <tr style=\"text-align: right;\">\n",
       "      <th></th>\n",
       "      <th>Unnamed: 0</th>\n",
       "      <th>age</th>\n",
       "      <th>transplant</th>\n",
       "      <th>y</th>\n",
       "    </tr>\n",
       "  </thead>\n",
       "  <tbody>\n",
       "    <tr>\n",
       "      <th>0</th>\n",
       "      <td>1</td>\n",
       "      <td>53</td>\n",
       "      <td>control</td>\n",
       "      <td>0</td>\n",
       "    </tr>\n",
       "    <tr>\n",
       "      <th>1</th>\n",
       "      <td>2</td>\n",
       "      <td>43</td>\n",
       "      <td>control</td>\n",
       "      <td>0</td>\n",
       "    </tr>\n",
       "    <tr>\n",
       "      <th>2</th>\n",
       "      <td>3</td>\n",
       "      <td>52</td>\n",
       "      <td>control</td>\n",
       "      <td>0</td>\n",
       "    </tr>\n",
       "    <tr>\n",
       "      <th>3</th>\n",
       "      <td>4</td>\n",
       "      <td>52</td>\n",
       "      <td>control</td>\n",
       "      <td>0</td>\n",
       "    </tr>\n",
       "    <tr>\n",
       "      <th>4</th>\n",
       "      <td>5</td>\n",
       "      <td>54</td>\n",
       "      <td>control</td>\n",
       "      <td>0</td>\n",
       "    </tr>\n",
       "  </tbody>\n",
       "</table>\n",
       "</div>"
      ],
      "text/plain": [
       "   Unnamed: 0  age transplant  y\n",
       "0           1   53    control  0\n",
       "1           2   43    control  0\n",
       "2           3   52    control  0\n",
       "3           4   52    control  0\n",
       "4           5   54    control  0"
      ]
     },
     "execution_count": 15,
     "metadata": {},
     "output_type": "execute_result"
    }
   ],
   "source": [
    "heart_df = pd.read_csv('./data/heart_hw.csv')\n",
    "heart_df.head()"
   ]
  },
  {
   "cell_type": "markdown",
   "id": "ad0d6c7b",
   "metadata": {},
   "source": [
    "#### Q3.1a"
   ]
  },
  {
   "cell_type": "code",
   "execution_count": 16,
   "id": "da25227d",
   "metadata": {},
   "outputs": [
    {
     "data": {
      "text/plain": [
       "0.11764705882352941"
      ]
     },
     "execution_count": 16,
     "metadata": {},
     "output_type": "execute_result"
    }
   ],
   "source": [
    "heart_df_control = heart_df[heart_df['transplant'] == 'control']\n",
    "heart_df_control_survived = len(heart_df_control[heart_df_control['y'] == 1])\n",
    "heart_df_control_total = len(heart_df_control)\n",
    "heart_df_control_survival_prop = heart_df_control_survived / heart_df_control_total\n",
    "heart_df_control_survival_prop"
   ]
  },
  {
   "cell_type": "markdown",
   "id": "f574bc39",
   "metadata": {},
   "source": [
    "Pretty low survival rate here for the control group..."
   ]
  },
  {
   "cell_type": "code",
   "execution_count": 17,
   "id": "fa6034c7",
   "metadata": {},
   "outputs": [
    {
     "data": {
      "text/plain": [
       "0.34782608695652173"
      ]
     },
     "execution_count": 17,
     "metadata": {},
     "output_type": "execute_result"
    }
   ],
   "source": [
    "heart_df_treatment = heart_df[heart_df['transplant'] == 'treatment']\n",
    "heart_df_treatment_survived = len(heart_df_treatment[heart_df_treatment['y'] == 1])\n",
    "heart_df_treatment_total = len(heart_df_treatment)\n",
    "heart_df_treatment_survival_prop = heart_df_treatment_survived / heart_df_treatment_total\n",
    "heart_df_treatment_survival_prop"
   ]
  },
  {
   "cell_type": "markdown",
   "id": "2203a0db",
   "metadata": {},
   "source": [
    "#### Q3.1b"
   ]
  },
  {
   "cell_type": "markdown",
   "id": "9cdd73f7",
   "metadata": {},
   "source": [
    "And there's the treatment group. So the difference between them?"
   ]
  },
  {
   "cell_type": "code",
   "execution_count": 18,
   "id": "00e4ee45",
   "metadata": {},
   "outputs": [
    {
     "data": {
      "text/plain": [
       "0.23017902813299232"
      ]
     },
     "execution_count": 18,
     "metadata": {},
     "output_type": "execute_result"
    }
   ],
   "source": [
    "heart_df_treatment_survival_prop - heart_df_control_survival_prop"
   ]
  },
  {
   "cell_type": "markdown",
   "id": "a84f7126",
   "metadata": {},
   "source": [
    "So there's our \"average treatment effect\"!"
   ]
  },
  {
   "cell_type": "markdown",
   "id": "86ae8e87",
   "metadata": {},
   "source": [
    "### Q3.2"
   ]
  },
  {
   "cell_type": "code",
   "execution_count": 19,
   "id": "5e71f638",
   "metadata": {},
   "outputs": [
    {
     "name": "stdout",
     "output_type": "stream",
     "text": [
      "0.11764705882352941\n",
      "[0.23017903]\n"
     ]
    }
   ],
   "source": [
    "transplant_dummy_vars = pd.get_dummies(heart_df['transplant'], drop_first=True)\n",
    "y_transplant_reg = LinearRegression(fit_intercept=True).fit(transplant_dummy_vars, heart_df['y'])\n",
    "print(y_transplant_reg.intercept_)\n",
    "print(y_transplant_reg.coef_)"
   ]
  },
  {
   "cell_type": "markdown",
   "id": "f24d04e3",
   "metadata": {},
   "source": [
    "2. Regress `y` on `transplant` using a linear model with a constant. How does the constant/intercept of the regression and the coefficient on transplant compare to your answers from part 1? Explain the relationship clearly.\n"
   ]
  },
  {
   "cell_type": "markdown",
   "id": "febac2d8",
   "metadata": {},
   "source": [
    "So these values make a lot of sense. Notably, the intercept of the regression is 0.11765. Now, what does the intercept mean? It's when the x variable, transplant, is 0. This corresponds to the control group and it's survival proportion when estimating y. Now, how about the coefficient? Well, let's consider the other value of transplant - treatment, which is mapped to a value of x=1, I suppose. This is true because the coefficient, 0.23018 is actually our difference between survival of treated and non-treated patients, and when you plug in x=1 into this linear model you get 0.34783 which matches the survival proportion of treated patients!"
   ]
  },
  {
   "cell_type": "markdown",
   "id": "141376cb",
   "metadata": {},
   "source": [
    "### Q3.3"
   ]
  },
  {
   "cell_type": "code",
   "execution_count": 20,
   "id": "1e5e3b85",
   "metadata": {},
   "outputs": [
    {
     "name": "stdout",
     "output_type": "stream",
     "text": [
      "0.7019569721740946\n",
      "[-0.01360722  0.26470169]\n"
     ]
    }
   ],
   "source": [
    "transplant_dummy_vars = pd.get_dummies(heart_df['transplant'], drop_first=True)\n",
    "features = pd.concat([heart_df['age'], transplant_dummy_vars], axis=1)\n",
    "y_transplant_reg = LinearRegression(fit_intercept=True).fit(features, heart_df['y'])\n",
    "print(y_transplant_reg.intercept_)\n",
    "print(y_transplant_reg.coef_)"
   ]
  },
  {
   "cell_type": "markdown",
   "id": "b986648b",
   "metadata": {},
   "source": [
    "The intercept changes quite a bit, to a value unfamiliar. It increases from 0.11765 to 0.70196. My best guess would be that the average age lies somewhere around 43 based on a quick calculation reversal since doing so would net the intercept back down to our transplant-only intercept. Let's see if that's true!"
   ]
  },
  {
   "cell_type": "code",
   "execution_count": 21,
   "id": "bdef89dd",
   "metadata": {},
   "outputs": [
    {
     "data": {
      "text/plain": [
       "np.float64(44.640776699029125)"
      ]
     },
     "execution_count": 21,
     "metadata": {},
     "output_type": "execute_result"
    }
   ],
   "source": [
    "heart_df['age'].mean()"
   ]
  },
  {
   "cell_type": "markdown",
   "id": "4cee0e26",
   "metadata": {},
   "source": [
    "Close enough - so yeah, that's my explanation."
   ]
  },
  {
   "cell_type": "markdown",
   "id": "db8ec01b",
   "metadata": {},
   "source": [
    "### Q3.4"
   ]
  },
  {
   "cell_type": "markdown",
   "id": "d8b46a4e",
   "metadata": {},
   "source": [
    "This question had a lot of parts. Let's break it down! \n",
    "\n",
    "> Build a more flexible model that allows for non-linear age effects and interactions between age and treatment.\n",
    "\n",
    "So I decided to both perform an arcsinh transformation on age, and then also expand to 3 degrees of polynomial features! That way, maybe we can get a better model since it is more flexible."
   ]
  },
  {
   "cell_type": "code",
   "execution_count": null,
   "id": "e90e2947",
   "metadata": {},
   "outputs": [],
   "source": [
    "arcsinh_age = np.arcsinh(heart_df[['age']])\n",
    "transplant_dummy_vars = pd.get_dummies(heart_df['transplant'], drop_first=True)\n",
    "expander = PolynomialFeatures(degree=3,include_bias=False)\n",
    "Z = expander.fit_transform(arcsinh_age)\n",
    "Z = pd.DataFrame(Z, columns=['arcsinh_age', 'arcsinh_age_squared', 'arcsinh_age_cubed'])\n",
    "features = pd.concat([Z, transplant_dummy_vars], axis=1)\n",
    "y = heart_df['y']"
   ]
  },
  {
   "cell_type": "markdown",
   "id": "b2b68f70",
   "metadata": {},
   "source": [
    "> Use a train-test split to validate your model"
   ]
  },
  {
   "cell_type": "code",
   "execution_count": null,
   "id": "273d371f",
   "metadata": {},
   "outputs": [],
   "source": [
    "X_train, X_test, y_train, y_test = train_test_split(features, y, test_size=0.2, random_state=250113)"
   ]
  },
  {
   "cell_type": "code",
   "execution_count": 103,
   "id": "03cd3634",
   "metadata": {},
   "outputs": [],
   "source": [
    "y_transplant_flex = LinearRegression(fit_intercept=True).fit(X_train, y_train)"
   ]
  },
  {
   "cell_type": "code",
   "execution_count": 104,
   "id": "29dc35a0",
   "metadata": {},
   "outputs": [],
   "source": [
    "predicted_test_vals = y_transplant_flex.predict(X_test)"
   ]
  },
  {
   "cell_type": "code",
   "execution_count": 105,
   "id": "e424e857",
   "metadata": {},
   "outputs": [
    {
     "data": {
      "text/plain": [
       "0.13624617560158786"
      ]
     },
     "execution_count": 105,
     "metadata": {},
     "output_type": "execute_result"
    }
   ],
   "source": [
    "mean_squared_error(y_test, predicted_test_vals)"
   ]
  },
  {
   "cell_type": "markdown",
   "id": "902c50dd",
   "metadata": {},
   "source": [
    "> Estimate your best model, predict the survival probability by age, and plot your results conditional on receiving a transplant and not"
   ]
  },
  {
   "cell_type": "code",
   "execution_count": 107,
   "id": "012e1abc",
   "metadata": {},
   "outputs": [
    {
     "name": "stderr",
     "output_type": "stream",
     "text": [
      "c:\\Users\\kevin\\OneDrive\\Desktop\\f25\\DS3001\\linear_models_assignment\\venv\\Lib\\site-packages\\sklearn\\utils\\validation.py:2749: UserWarning: X does not have valid feature names, but PolynomialFeatures was fitted with feature names\n",
      "  warnings.warn(\n"
     ]
    }
   ],
   "source": [
    "age_range = np.linspace(8, 65, 100)\n",
    "age_range_transformed = np.arcsinh(age_range)\n",
    "# idk I kept getting an error telling me to add this reshape(-1, 1) thing\n",
    "age_range_expanded = expander.transform(age_range_transformed.reshape(-1, 1))\n",
    "age_range_df = pd.DataFrame(age_range_expanded, columns=['arcsinh_age', 'arcsinh_age_squared', 'arcsinh_age_cubed'])\n",
    "full_treatment = np.ones(100, dtype=bool)\n",
    "no_treatment = np.zeros(100, dtype=bool)\n",
    "Z_full = pd.concat([age_range_df, pd.DataFrame({'treatment': full_treatment})], axis=1)\n",
    "Z_none = pd.concat([age_range_df, pd.DataFrame({'treatment': no_treatment})], axis=1)\n",
    "predicted_full_treatment = y_transplant_flex.predict(Z_full)\n",
    "predicted_no_treatment = y_transplant_flex.predict(Z_none)"
   ]
  },
  {
   "cell_type": "markdown",
   "id": "34504454",
   "metadata": {},
   "source": [
    "OK. Now let's use the linear space grid to plot our values! I'm also going to include the test set values and their treated/untreated values to show whether an age group survived or not :)"
   ]
  },
  {
   "cell_type": "code",
   "execution_count": 121,
   "id": "d1afc179",
   "metadata": {},
   "outputs": [],
   "source": [
    "original_test_df = heart_df.loc[X_test.index]\n",
    "treated_test_df = original_test_df[original_test_df['transplant'] == 'treatment']\n",
    "untreated_test_df = original_test_df[original_test_df['transplant'] == 'control']"
   ]
  },
  {
   "cell_type": "code",
   "execution_count": 122,
   "id": "82993f3e",
   "metadata": {},
   "outputs": [
    {
     "data": {
      "text/html": [
       "<div>\n",
       "<style scoped>\n",
       "    .dataframe tbody tr th:only-of-type {\n",
       "        vertical-align: middle;\n",
       "    }\n",
       "\n",
       "    .dataframe tbody tr th {\n",
       "        vertical-align: top;\n",
       "    }\n",
       "\n",
       "    .dataframe thead th {\n",
       "        text-align: right;\n",
       "    }\n",
       "</style>\n",
       "<table border=\"1\" class=\"dataframe\">\n",
       "  <thead>\n",
       "    <tr style=\"text-align: right;\">\n",
       "      <th></th>\n",
       "      <th>Unnamed: 0</th>\n",
       "      <th>age</th>\n",
       "      <th>transplant</th>\n",
       "      <th>y</th>\n",
       "    </tr>\n",
       "  </thead>\n",
       "  <tbody>\n",
       "    <tr>\n",
       "      <th>5</th>\n",
       "      <td>6</td>\n",
       "      <td>36</td>\n",
       "      <td>control</td>\n",
       "      <td>0</td>\n",
       "    </tr>\n",
       "    <tr>\n",
       "      <th>31</th>\n",
       "      <td>32</td>\n",
       "      <td>45</td>\n",
       "      <td>control</td>\n",
       "      <td>0</td>\n",
       "    </tr>\n",
       "    <tr>\n",
       "      <th>28</th>\n",
       "      <td>29</td>\n",
       "      <td>59</td>\n",
       "      <td>control</td>\n",
       "      <td>0</td>\n",
       "    </tr>\n",
       "    <tr>\n",
       "      <th>9</th>\n",
       "      <td>10</td>\n",
       "      <td>51</td>\n",
       "      <td>control</td>\n",
       "      <td>0</td>\n",
       "    </tr>\n",
       "    <tr>\n",
       "      <th>54</th>\n",
       "      <td>55</td>\n",
       "      <td>41</td>\n",
       "      <td>control</td>\n",
       "      <td>0</td>\n",
       "    </tr>\n",
       "    <tr>\n",
       "      <th>2</th>\n",
       "      <td>3</td>\n",
       "      <td>52</td>\n",
       "      <td>control</td>\n",
       "      <td>0</td>\n",
       "    </tr>\n",
       "    <tr>\n",
       "      <th>12</th>\n",
       "      <td>13</td>\n",
       "      <td>56</td>\n",
       "      <td>control</td>\n",
       "      <td>0</td>\n",
       "    </tr>\n",
       "  </tbody>\n",
       "</table>\n",
       "</div>"
      ],
      "text/plain": [
       "    Unnamed: 0  age transplant  y\n",
       "5            6   36    control  0\n",
       "31          32   45    control  0\n",
       "28          29   59    control  0\n",
       "9           10   51    control  0\n",
       "54          55   41    control  0\n",
       "2            3   52    control  0\n",
       "12          13   56    control  0"
      ]
     },
     "execution_count": 122,
     "metadata": {},
     "output_type": "execute_result"
    }
   ],
   "source": [
    "untreated_test_df"
   ]
  },
  {
   "cell_type": "code",
   "execution_count": null,
   "id": "d9f7e7c1",
   "metadata": {},
   "outputs": [
    {
     "data": {
      "image/png": "[encoded data removed]",
      "text/plain": [
       "<Figure size 640x480 with 1 Axes>"
      ]
     },
     "metadata": {},
     "output_type": "display_data"
    }
   ],
   "source": [
    "plt.scatter(treated_test_df['age'], treated_test_df['y'], label='Treated')\n",
    "plt.scatter(untreated_test_df['age'], untreated_test_df['y'], label='Untreated')\n",
    "plt.plot(age_range, predicted_full_treatment, label='Full Treatment', color='red')\n",
    "plt.plot(age_range, predicted_no_treatment, label='No Treatment', color='blue')\n",
    "plt.xlabel('Age')\n",
    "plt.ylabel('Predicted Survival Probability')\n",
    "plt.title('Predicted Survival Probability vs Age')\n",
    "plt.legend()\n",
    "plt.show()"
   ]
  },
  {
   "cell_type": "markdown",
   "id": "bb3cc043",
   "metadata": {},
   "source": [
    "> Describe what you see.\n",
    "\n",
    "Ok I feel like it's not a big shocker that this is what the prediction line looks like. Firstly, it makes sense that people that are too young, or too old tend to have lower survival probability! Seems like the model was fitted such that people around their 30s (often referred to as physical prime) tend to have the highest survival chance in both groups.\n",
    "\n",
    "Now - for treated individuals, they obviously have a higher predicted survival probability than no treatment, hence the sort of shift we see here.\n",
    "\n",
    "Lastly, I also put on the true test labels - seems like the model isn't the greatest in the world given that for some older cases where they were treated, they lived (even though the models predicted probability isn't very high at those same verticals)."
   ]
  },
  {
   "cell_type": "markdown",
   "id": "3aaa07fe",
   "metadata": {},
   "source": [
    "### Q3.5"
   ]
  },
  {
   "cell_type": "markdown",
   "id": "e7725863",
   "metadata": {},
   "source": [
    "The biggest thing I would be concerned about is that this model is genuinely not very good. I mean I already outlined earlier some issues - I do not think that this model is good enough to warrant being used for life or death situations. I think that there likely needs to be more features beyond just age and transplant received - otherwise, we are just deciding who is contacted about a potential organ pretty much on the basis of age. That in itself is a huge ethical concern because then we would be discriminating care by age. Likewise, there are probably a whole slew of other factors that could be considered that would make this a much stronger model. Those are my immediate concerns about build and deployment."
   ]
  }
 ],
 "metadata": {
  "colab": {
   "provenance": []
  },
  "kernelspec": {
   "display_name": "venv",
   "language": "python",
   "name": "python3"
  },
  "language_info": {
   "codemirror_mode": {
    "name": "ipython",
    "version": 3
   },
   "file_extension": ".py",
   "mimetype": "text/x-python",
   "name": "python",
   "nbconvert_exporter": "python",
   "pygments_lexer": "ipython3",
   "version": "3.13.3"
  }
 },
 "nbformat": 4,
 "nbformat_minor": 5
}
